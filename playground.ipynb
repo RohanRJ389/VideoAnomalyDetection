{
 "cells": [
  {
   "cell_type": "code",
   "execution_count": 1,
   "metadata": {},
   "outputs": [],
   "source": [
    "import cv2\n",
    "import random\n",
    "\n",
    "# Function to capture and save a random frame\n",
    "def save_random_frame_from_video(video_path, output_image_path):\n",
    "    # Open the video file\n",
    "    cap = cv2.VideoCapture(video_path)\n",
    "    \n",
    "    # Check if video opened successfully\n",
    "    if not cap.isOpened():\n",
    "        print(\"Error: Could not open video.\")\n",
    "        return\n",
    "\n",
    "    # Get the total number of frames\n",
    "    total_frames = int(cap.get(cv2.CAP_PROP_FRAME_COUNT))\n",
    "    \n",
    "    # Select a random frame index\n",
    "    random_frame = random.randint(0, total_frames - 1)\n",
    "\n",
    "    # Set the video to the random frame\n",
    "    cap.set(cv2.CAP_PROP_POS_FRAMES, random_frame)\n",
    "\n",
    "    # Read the frame\n",
    "    ret, frame = cap.read()\n",
    "    \n",
    "    if ret:\n",
    "        # Save the frame as an image\n",
    "        cv2.imwrite(output_image_path, frame)\n",
    "        print(f\"Random frame {random_frame} saved as {output_image_path}\")\n",
    "    else:\n",
    "        print(\"Error: Could not read frame.\")\n",
    "    \n",
    "    # Release the video capture object\n",
    "    cap.release()\n",
    "\n",
    "\n"
   ]
  },
  {
   "cell_type": "code",
   "execution_count": 4,
   "metadata": {},
   "outputs": [
    {
     "name": "stdout",
     "output_type": "stream",
     "text": [
      "Random frame 274 saved as sample_frame.jpg\n"
     ]
    }
   ],
   "source": [
    "# Example usage\n",
    "video_path = r'Data\\videos\\anomaly-videos\\Abuse029_x264.mp4'  # Replace with your video file path\n",
    "output_image_path = 'sample_frame.jpg'\n",
    "save_random_frame_from_video(video_path, output_image_path)"
   ]
  }
 ],
 "metadata": {
  "kernelspec": {
   "display_name": "env1",
   "language": "python",
   "name": "python3"
  },
  "language_info": {
   "codemirror_mode": {
    "name": "ipython",
    "version": 3
   },
   "file_extension": ".py",
   "mimetype": "text/x-python",
   "name": "python",
   "nbconvert_exporter": "python",
   "pygments_lexer": "ipython3",
   "version": "3.12.2"
  }
 },
 "nbformat": 4,
 "nbformat_minor": 2
}
