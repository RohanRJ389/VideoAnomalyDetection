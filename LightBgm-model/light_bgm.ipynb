{
 "cells": [
  {
   "cell_type": "code",
   "execution_count": 54,
   "metadata": {},
   "outputs": [],
   "source": [
    "\n",
    "import pandas as pd\n",
    "import numpy as np\n",
    "import lightgbm as lgb\n",
    "from sklearn.model_selection import train_test_split\n",
    "from sklearn.metrics import accuracy_score, classification_report\n",
    "import glob\n"
   ]
  },
  {
   "cell_type": "code",
   "execution_count": 55,
   "metadata": {},
   "outputs": [],
   "source": [
    "# Load Normal and Anomalous Data\n",
    "normal_features_path = r'C:\\My_Stuff\\College\\Capstone Project\\CAPSTONE\\Capstone_2\\VideoAnomalyDetection\\extracted_features_csv\\normal\\*.csv'\n",
    "anomalous_features_path = r'C:\\My_Stuff\\College\\Capstone Project\\CAPSTONE\\Capstone_2\\VideoAnomalyDetection\\extracted_features_csv\\anomalous\\*.csv'\n",
    "\n",
    "# Load normal features\n",
    "normal_files = glob.glob(normal_features_path)\n"
   ]
  },
  {
   "cell_type": "code",
   "execution_count": 56,
   "metadata": {},
   "outputs": [
    {
     "name": "stdout",
     "output_type": "stream",
     "text": [
      "Index(['Frame Number', 'Number of Objects', 'Spatial Density',\n",
      "       'Class Distribution', 'Mean Velocity', 'Max Velocity',\n",
      "       'Variance in Velocity', 'Mean Acceleration', 'Max Acceleration',\n",
      "       'Variance in Acceleration', 'Mean Direction', 'Direction Variance',\n",
      "       'Mean Displacement', 'Angle Variance', 'Interaction Count', 'Mean IoU',\n",
      "       'Spatial Density.1', 'label'],\n",
      "      dtype='object')\n"
     ]
    }
   ],
   "source": [
    "# Load Normal and Anomalous Data\n",
    "normal_features_path = r'C:\\My_Stuff\\College\\Capstone Project\\CAPSTONE\\Capstone_2\\VideoAnomalyDetection\\extracted_features_csv\\normal\\*.csv'\n",
    "anomalous_features_path = r'C:\\My_Stuff\\College\\Capstone Project\\CAPSTONE\\Capstone_2\\VideoAnomalyDetection\\extracted_features_csv\\anomalous\\*.csv'\n",
    "\n",
    "# Load normal features\n",
    "normal_files = glob.glob(normal_features_path)\n",
    "normal_dfs = [pd.read_csv(file) for file in normal_files]\n",
    "normal_data = pd.concat(normal_dfs, ignore_index=True)\n",
    "\n",
    "# Load anomalous features\n",
    "anomalous_files = glob.glob(anomalous_features_path)\n",
    "anomalous_dfs = [pd.read_csv(file) for file in anomalous_files]\n",
    "anomalous_data = pd.concat(anomalous_dfs, ignore_index=True)\n",
    "\n",
    "# Combine data and create labels\n",
    "normal_data['label'] = 0\n",
    "anomalous_data['label'] = 1\n",
    "df = pd.concat([normal_data, anomalous_data], ignore_index=True)\n",
    "\n",
    "# Display the column names\n",
    "print(df.columns)"
   ]
  },
  {
   "cell_type": "code",
   "execution_count": 57,
   "metadata": {},
   "outputs": [],
   "source": [
    "# Preprocess Data: Calculate the changes (deltas) between consecutive frames for each numerical feature\n",
    "# Select only numerical columns, excluding 'label'\n",
    "numerical_cols = df.select_dtypes(include=[np.number]).drop(columns=['label']).columns\n",
    "\n",
    "# Calculate the differences for only the numerical features\n",
    "df_diff = df[numerical_cols].diff().fillna(0)\n",
    "\n",
    "# Separate features (X) and labels (y)\n",
    "X = df_diff\n",
    "y = df['label']"
   ]
  },
  {
   "cell_type": "code",
   "execution_count": 58,
   "metadata": {},
   "outputs": [],
   "source": [
    "# Split the dataset\n",
    "X_train, X_test, y_train, y_test = train_test_split(X, y, test_size=0.2, random_state=42)"
   ]
  },
  {
   "cell_type": "code",
   "execution_count": 59,
   "metadata": {},
   "outputs": [],
   "source": [
    "# Split data into training and testing sets\n",
    "X_train, X_test, y_train, y_test = train_test_split(X, y, test_size=0.2, random_state=42)\n"
   ]
  },
  {
   "cell_type": "code",
   "execution_count": 60,
   "metadata": {},
   "outputs": [],
   "source": [
    "# Create a LightGBM dataset\n",
    "train_data = lgb.Dataset(X_train, label=y_train)\n",
    "test_data = lgb.Dataset(X_test, label=y_test, reference=train_data)\n",
    "\n"
   ]
  },
  {
   "cell_type": "code",
   "execution_count": 61,
   "metadata": {},
   "outputs": [],
   "source": [
    "# Define LightGBM parameters\n",
    "params = {\n",
    "    'objective': 'binary',  # Binary classification\n",
    "    'metric': 'binary_logloss',\n",
    "    'boosting_type': 'gbdt',\n",
    "    'num_leaves': 31,\n",
    "    'learning_rate': 0.05,\n",
    "    'feature_fraction': 0.9\n",
    "}\n"
   ]
  },
  {
   "cell_type": "code",
   "execution_count": 62,
   "metadata": {},
   "outputs": [],
   "source": [
    "# Define LightGBM parameters\n",
    "params = {\n",
    "    'objective': 'binary',  # Binary classification\n",
    "    'metric': 'binary_logloss',\n",
    "    'boosting_type': 'gbdt',\n",
    "    'num_leaves': 31,\n",
    "    'learning_rate': 0.05,\n",
    "    'feature_fraction': 0.9\n",
    "}\n"
   ]
  },
  {
   "cell_type": "code",
   "execution_count": 63,
   "metadata": {},
   "outputs": [
    {
     "name": "stdout",
     "output_type": "stream",
     "text": [
      "[LightGBM] [Warning] Found whitespace in feature_names, replace with underlines\n",
      "[LightGBM] [Info] Number of positive: 9962, number of negative: 17463\n",
      "[LightGBM] [Info] Auto-choosing col-wise multi-threading, the overhead of testing was 0.003056 seconds.\n",
      "You can set `force_col_wise=true` to remove the overhead.\n",
      "[LightGBM] [Info] Total Bins 3380\n",
      "[LightGBM] [Info] Number of data points in the train set: 27425, number of used features: 16\n",
      "[LightGBM] [Warning] Found whitespace in feature_names, replace with underlines\n",
      "[LightGBM] [Info] [binary:BoostFromScore]: pavg=0.363245 -> initscore=-0.561307\n",
      "[LightGBM] [Info] Start training from score -0.561307\n",
      "Training until validation scores don't improve for 10 rounds\n",
      "Did not meet early stopping. Best iteration is:\n",
      "[100]\ttrain's binary_logloss: 0.552917\tvalid's binary_logloss: 0.581506\n"
     ]
    }
   ],
   "source": [
    "# Train the LightGBM classifier\n",
    "num_round = 100  # Number of boosting rounds\n",
    "bst = lgb.train(\n",
    "    params,\n",
    "    train_data,\n",
    "    num_round,\n",
    "    valid_sets=[train_data, test_data],  # Include both training and testing data for validation\n",
    "    valid_names=['train', 'valid'],       # Names for the datasets\n",
    "    callbacks=[lgb.early_stopping(stopping_rounds=10)]  # Early stopping callback\n",
    ")"
   ]
  },
  {
   "cell_type": "code",
   "execution_count": 64,
   "metadata": {},
   "outputs": [
    {
     "name": "stdout",
     "output_type": "stream",
     "text": [
      "Model saved to C:\\My_Stuff\\College\\Capstone Project\\CAPSTONE\\Capstone_2\\VideoAnomalyDetection\\LightBgm-model\\lightgbm_model.txt\n"
     ]
    }
   ],
   "source": [
    "# Save the trained LightGBM model\n",
    "model_save_path = r'C:\\My_Stuff\\College\\Capstone Project\\CAPSTONE\\Capstone_2\\VideoAnomalyDetection\\LightBgm-model\\lightgbm_model.txt'\n",
    "bst.save_model(model_save_path)\n",
    "print(f'Model saved to {model_save_path}')"
   ]
  },
  {
   "cell_type": "code",
   "execution_count": 65,
   "metadata": {},
   "outputs": [
    {
     "name": "stdout",
     "output_type": "stream",
     "text": [
      "Accuracy: 0.6911185649701035\n",
      "              precision    recall  f1-score   support\n",
      "\n",
      "           0       0.71      0.89      0.79      4397\n",
      "           1       0.63      0.34      0.44      2460\n",
      "\n",
      "    accuracy                           0.69      6857\n",
      "   macro avg       0.67      0.61      0.61      6857\n",
      "weighted avg       0.68      0.69      0.66      6857\n",
      "\n"
     ]
    }
   ],
   "source": [
    "# Evaluate the model on the test set\n",
    "y_pred = bst.predict(X_test)\n",
    "y_pred_label = (y_pred > 0.5).astype(int)  # Convert probabilities to binary predictions\n",
    "\n",
    "# Print accuracy and classification report\n",
    "print(\"Accuracy:\", accuracy_score(y_test, y_pred_label))\n",
    "print(classification_report(y_test, y_pred_label))"
   ]
  },
  {
   "cell_type": "markdown",
   "metadata": {},
   "source": []
  },
  {
   "cell_type": "code",
   "execution_count": null,
   "metadata": {},
   "outputs": [],
   "source": []
  }
 ],
 "metadata": {
  "kernelspec": {
   "display_name": "Python 3",
   "language": "python",
   "name": "python3"
  },
  "language_info": {
   "codemirror_mode": {
    "name": "ipython",
    "version": 3
   },
   "file_extension": ".py",
   "mimetype": "text/x-python",
   "name": "python",
   "nbconvert_exporter": "python",
   "pygments_lexer": "ipython3",
   "version": "3.12.1"
  }
 },
 "nbformat": 4,
 "nbformat_minor": 2
}
